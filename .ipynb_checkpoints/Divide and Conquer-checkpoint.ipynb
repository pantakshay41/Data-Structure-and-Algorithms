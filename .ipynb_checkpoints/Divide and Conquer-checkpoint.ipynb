{
 "cells": [
  {
   "cell_type": "markdown",
   "metadata": {},
   "source": [
    "# Divide and Conquer"
   ]
  },
  {
   "cell_type": "markdown",
   "metadata": {},
   "source": [
    "Divide and conquer refers to a class of algorithmic techniques in which one  breaks the input into several parts, solves the problem in each part recursively,  and then combines the solutions to these subproblems into an overall solution. "
   ]
  },
  {
   "cell_type": "markdown",
   "metadata": {},
   "source": [
    "### Counting Inversions"
   ]
  },
  {
   "cell_type": "markdown",
   "metadata": {},
   "source": [
    "Here we are given n numbers in order a(1),a(2),a(3)...a(n). To define an inversion we say that for two numbers a(i) and a(j) if i>j and a(i)<a(j). The problem is to find the number of inversions in the sequence."
   ]
  },
  {
   "cell_type": "code",
   "execution_count": 1,
   "metadata": {},
   "outputs": [],
   "source": [
    "def merge_and_count(L,R):\n",
    "    '''helper function that merges two halves and counts the inversion in them\n",
    "        param:\n",
    "            L:left list\n",
    "            R:right list\n",
    "        returns:\n",
    "            tuple: at index-0:sorted list\n",
    "                   at index-1:number of inversions'''\n",
    "    i=0\n",
    "    j=0\n",
    "    count=0\n",
    "    op=[]\n",
    "    while i<len(L) and j<len(R):\n",
    "\n",
    "        if L[i]>R[j]:\n",
    "            count+=len(L)-i\n",
    "            op.append(R[j])\n",
    "            j+=1\n",
    "        else:\n",
    "            op.append(L[i])\n",
    "            i+=1\n",
    "    if j<len(R):\n",
    "        for elem in R[j:]:\n",
    "            op.append(elem)\n",
    "    elif i<len(L):\n",
    "        for elem in L[i:]:\n",
    "            op.append(elem)\n",
    "    return op,count\n",
    "def sort_and_count(sequence):\n",
    "    '''Recursively sorts and counts the number of inversions in an array\n",
    "        param:\n",
    "            sequence:A list of numbers\n",
    "        returns:\n",
    "            tuple: at index-0:sorted list\n",
    "                   at index-1:number of inversions'''\n",
    "    n=len(sequence)\n",
    "    if n==1:\n",
    "        return sequence,0\n",
    "    else:\n",
    "        Left=sequence[0:int(n/2)]\n",
    "        Right=sequence[int(n/2):]\n",
    "        L,c1=sort_and_count(Left)\n",
    "        R,c2=sort_and_count(Right)\n",
    "        Op,c3=merge_and_count(L,R)\n",
    "    return Op,c1+c2+c3"
   ]
  },
  {
   "cell_type": "code",
   "execution_count": 2,
   "metadata": {},
   "outputs": [
    {
     "data": {
      "text/plain": [
       "([1, 2, 3, 4, 5], 10)"
      ]
     },
     "execution_count": 2,
     "metadata": {},
     "output_type": "execute_result"
    }
   ],
   "source": [
    "sort_and_count([5,4,3,2,1])"
   ]
  },
  {
   "cell_type": "code",
   "execution_count": null,
   "metadata": {},
   "outputs": [],
   "source": []
  }
 ],
 "metadata": {
  "kernelspec": {
   "display_name": "Python 3",
   "language": "python",
   "name": "python3"
  },
  "language_info": {
   "codemirror_mode": {
    "name": "ipython",
    "version": 3
   },
   "file_extension": ".py",
   "mimetype": "text/x-python",
   "name": "python",
   "nbconvert_exporter": "python",
   "pygments_lexer": "ipython3",
   "version": "3.7.2"
  }
 },
 "nbformat": 4,
 "nbformat_minor": 2
}
