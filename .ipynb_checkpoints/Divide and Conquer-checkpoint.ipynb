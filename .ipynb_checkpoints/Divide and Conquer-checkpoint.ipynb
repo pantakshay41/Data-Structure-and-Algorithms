{
 "cells": [
  {
   "cell_type": "markdown",
   "metadata": {},
   "source": [
    "# Divide and Conquer"
   ]
  },
  {
   "cell_type": "markdown",
   "metadata": {},
   "source": [
    "Divide and conquer refers to a class of algorithmic techniques in which one  breaks the input into several parts, solves the problem in each part recursively,  and then combines the solutions to these subproblems into an overall solution. "
   ]
  },
  {
   "cell_type": "markdown",
   "metadata": {},
   "source": [
    "### Counting Inversions"
   ]
  },
  {
   "cell_type": "markdown",
   "metadata": {},
   "source": [
    "Here we are given n numbers in order $a_{1},a_{2},a_{3}...a_{n}$. To define an inversion we say that for two numbers $a_{i}$ and $a_{j}$ if $i>j$ and $a_{i}<a_{j}$. The problem is to find the number of inversions in the sequence."
   ]
  },
  {
   "cell_type": "code",
   "execution_count": 5,
   "metadata": {},
   "outputs": [],
   "source": [
    "def merge_and_count(L,R):\n",
    "    '''helper function that merges two halves and counts the inversion in them\n",
    "        param:\n",
    "            L:left list\n",
    "            R:right list\n",
    "        returns:\n",
    "            tuple: at index-0:sorted list\n",
    "                   at index-1:number of inversions'''\n",
    "    i=0\n",
    "    j=0\n",
    "    count=0\n",
    "    op=[]\n",
    "    while i<len(L) and j<len(R):\n",
    "\n",
    "        if L[i]>R[j]:\n",
    "            count+=len(L)-i\n",
    "            op.append(R[j])\n",
    "            j+=1\n",
    "        else:\n",
    "            op.append(L[i])\n",
    "            i+=1\n",
    "    if j<len(R):\n",
    "        for elem in R[j:]:\n",
    "            op.append(elem)\n",
    "    elif i<len(L):\n",
    "        for elem in L[i:]:\n",
    "            op.append(elem)\n",
    "    return op,count\n",
    "def sort_and_count(sequence):\n",
    "    '''Recursively sorts and counts the number of inversions in an array\n",
    "        param:\n",
    "            sequence:A list of numbers\n",
    "        returns:\n",
    "            tuple: at index-0:sorted list\n",
    "                   at index-1:number of inversions'''\n",
    "    n=len(sequence)\n",
    "    if n==1:\n",
    "        return sequence,0\n",
    "    else:\n",
    "        Left=sequence[0:int(n/2)]\n",
    "        Right=sequence[int(n/2):]\n",
    "        L,c1=sort_and_count(Left)\n",
    "        R,c2=sort_and_count(Right)\n",
    "        Op,c3=merge_and_count(L,R)\n",
    "    return Op,c1+c2+c3"
   ]
  },
  {
   "cell_type": "code",
   "execution_count": 6,
   "metadata": {},
   "outputs": [
    {
     "data": {
      "text/plain": [
       "([1, 2, 3, 4, 5], 10)"
      ]
     },
     "execution_count": 6,
     "metadata": {},
     "output_type": "execute_result"
    }
   ],
   "source": [
    "sort_and_count([5,4,3,2,1])"
   ]
  },
  {
   "cell_type": "markdown",
   "metadata": {},
   "source": [
    "### Points with the shortest distance "
   ]
  },
  {
   "cell_type": "code",
   "execution_count": 9,
   "metadata": {},
   "outputs": [],
   "source": [
    "def calc_distance(p1,p2):\n",
    "    return ((p1[0]-p2[0])**2+(p1[1]-p2[1])**2)**0.5"
   ]
  },
  {
   "cell_type": "code",
   "execution_count": 6,
   "metadata": {},
   "outputs": [],
   "source": [
    "def merge_and_find(points,L,R):\n",
    "    i=0\n",
    "    j=0\n",
    "    op=[]\n",
    "    while i<len(L) and j<len(R):\n",
    "        if len(points)==0:\n",
    "            points.append(L[i])\n",
    "            points.append(R[j])\n",
    "        else:\n",
    "            if calc_distance(points[0],points[1])>calc_distance(L[i],R[j]):\n",
    "                points[0]=(L[i])\n",
    "                points[1]=(R[j])\n",
    "        if max(L[i])>max(R[j]):\n",
    "            op.append(R[j])\n",
    "            j+=1\n",
    "        else:\n",
    "            op.append(L[i])\n",
    "            i+=1\n",
    "    if j<len(R):\n",
    "        for elem in R[j:]:\n",
    "            op.append(elem)\n",
    "    elif i<len(L):\n",
    "        for elem in L[i:]:\n",
    "            op.append(elem)\n",
    "    return points,op\n",
    "def sort_and_find(sequence,points):\n",
    "    n=len(sequence)\n",
    "    if n==1:\n",
    "        return points,sequence\n",
    "    Left=sequence[0:int(n/2)]\n",
    "    Right=sequence[int(n/2):]\n",
    "    points,L=sort_and_find(Left,points)\n",
    "    points,R=sort_and_find(Right,points)\n",
    "    \n",
    "    points,Op=merge_and_find(points,L,R)\n",
    "    return points,Op"
   ]
  },
  {
   "cell_type": "code",
   "execution_count": 17,
   "metadata": {},
   "outputs": [],
   "source": [
    "def algo_test(n):\n",
    "    import random \n",
    "    sequence=[(random.randint(-10000,10000),(random.randint(-10000,10000))) for i in range(n)]\n",
    "    sequence=list(set(sequence))\n",
    "    op=(sort_and_find(sequence,[]))\n",
    "    print(op)"
   ]
  },
  {
   "cell_type": "code",
   "execution_count": 18,
   "metadata": {
    "scrolled": true
   },
   "outputs": [
    {
     "name": "stdout",
     "output_type": "stream",
     "text": [
      "([(3495, 5632), (914, 7349)], [(-2647, -7591), (-4430, 82), (1921, 272), (3495, 5632), (914, 7349)])\n"
     ]
    }
   ],
   "source": [
    "algo_test(5)"
   ]
  },
  {
   "cell_type": "code",
   "execution_count": 5,
   "metadata": {},
   "outputs": [],
   "source": [
    "## Book Method \n",
    "def merge(L,R,index):\n",
    "    i=0\n",
    "    j=0\n",
    "    op=[]\n",
    "    while i<len(L) and j<len(R):\n",
    "        if L[i][index]<=R[j][index]:\n",
    "            op.append(L[i])\n",
    "            i+=1\n",
    "        else:\n",
    "            op.append(R[j])\n",
    "            j+=1\n",
    "    if j<len(R):\n",
    "        for elem in R[j:]:\n",
    "            op.append(elem)\n",
    "    elif i<len(L):\n",
    "        for elem in L[i:]:\n",
    "            op.append(elem)\n",
    "    return op\n",
    "def sort_x(Points):\n",
    "    n=len(Points)\n",
    "    index=0\n",
    "    if n==1:\n",
    "        return Points\n",
    "    L=sort_x(Points[0:n//2])\n",
    "    R=sort_x(Points[n//2:])\n",
    "    op=merge(L,R,index)\n",
    "    return op\n",
    "    \n",
    "    \n",
    "def sort_y(Points):\n",
    "    n=len(Points)\n",
    "    index=1\n",
    "    if n==1:\n",
    "        return Points\n",
    "    L=sort_y(Points[0:n//2])\n",
    "    R=sort_y(Points[n//2:])\n",
    "    op=merge(L,R,index)\n",
    "    return op\n",
    "def closest_pair_points(Px,Py):\n",
    "    op_points=[0,1]\n",
    "    n=len(Px)\n",
    "    if n<=3:\n",
    "        min_d=float('inf')\n",
    "        for p1 in range(n):\n",
    "            for p2 in range(p1+1,n):\n",
    "                d=calc_distance(Px[p1],Px[p2])\n",
    "                if d<min_d:\n",
    "                    op_points[0]=Px[p1]\n",
    "                    op_points[1]=Px[p2]\n",
    "                    min_d=d\n",
    "        return op_points\n",
    "    Qx=Px[:n//2]\n",
    "    Rx=Px[(n//2):]\n",
    "    Qy=Py[:n//2]\n",
    "    Ry=Py[n//2:]\n",
    "    op_q=closest_pair_points(Qx,Qy)\n",
    "    op_r=closest_pair_points(Rx,Ry)\n",
    "    delta=min(calc_distance(*op_q),calc_distance(*op_r))\n",
    "    Sy=[]\n",
    "    x_max=Px[-1][0]\n",
    "    for point in Py:\n",
    "        if calc_distance((x_max,point[1]),point)<=delta:\n",
    "            Sy.append(point)\n",
    "    for i in range(len(Sy)):\n",
    "        m=min(16,len(Sy)-i)\n",
    "        for j in range(1,m):\n",
    "            if calc_distance(Sy[i],Sy[i+j])<delta:\n",
    "                return Sy[i],Sy[i+j]\n",
    "    if calc_distance(*op_q)<calc_distance(*op_r):\n",
    "        return op_q\n",
    "    else:\n",
    "        return op_r\n",
    "def closest_pair(Points):\n",
    "    Px=sort_x(Points)\n",
    "    Py=sort_y(Points)\n",
    "    op=closest_pair_points(Px,Py)\n",
    "    return op\n",
    "    "
   ]
  },
  {
   "cell_type": "code",
   "execution_count": 50,
   "metadata": {},
   "outputs": [
    {
     "data": {
      "text/plain": [
       "[(1, 3), (1, 2)]"
      ]
     },
     "execution_count": 50,
     "metadata": {},
     "output_type": "execute_result"
    }
   ],
   "source": [
    "closest_pair([(3,2),(1,6),(1,24),(1,3),(1,2)])"
   ]
  },
  {
   "cell_type": "code",
   "execution_count": 10,
   "metadata": {},
   "outputs": [
    {
     "name": "stdout",
     "output_type": "stream",
     "text": [
      "72.1 µs ± 2.33 µs per loop (mean ± std. dev. of 7 runs, 10000 loops each)\n"
     ]
    }
   ],
   "source": [
    "%timeit closest_pair([(3,2),(1,6),(1,24),(1,3),(1,5),(1,22)])"
   ]
  },
  {
   "cell_type": "code",
   "execution_count": 11,
   "metadata": {},
   "outputs": [
    {
     "name": "stdout",
     "output_type": "stream",
     "text": [
      "54 µs ± 1.23 µs per loop (mean ± std. dev. of 7 runs, 10000 loops each)\n"
     ]
    }
   ],
   "source": [
    "%timeit sort_and_find([(3,2),(1,6),(1,24),(1,3),(1,5),(1,22)],[])"
   ]
  },
  {
   "cell_type": "code",
   "execution_count": 57,
   "metadata": {},
   "outputs": [
    {
     "data": {
      "text/plain": [
       "[(1, 3), (1, 2)]"
      ]
     },
     "execution_count": 57,
     "metadata": {},
     "output_type": "execute_result"
    }
   ],
   "source": [
    "sort_and_find([(3,2),(1,6),(1,24),(1,3),(1,2)],[])[0]"
   ]
  },
  {
   "cell_type": "markdown",
   "metadata": {},
   "source": [
    "I dont know if my way of doing it is correct as I had no way to verify my algorithm but it clearly gave me correct output for majority of random tests I did on it anyhow I can now clearly find closest pair of points recursively by the courtesy of M. I. Shamos and D. Hoey."
   ]
  },
  {
   "cell_type": "markdown",
   "metadata": {},
   "source": [
    "### Integer Multiplication"
   ]
  },
  {
   "cell_type": "markdown",
   "metadata": {},
   "source": [
    "Consider 2 numbers $x$ and $y$ where number of bits/tens/whatever base you have in each number are more than 2 and we have to find the product of these two numbers.\n",
    "The basic brute force approach is to multiply one number first bit times then second bit times and so on and then add all these products to get the final product.\n",
    "The other recursive approach is to break down the number $x$ into $x=x_{1}.10^{n/2}+x_{0}$ and $y$ into $y=y_{1}.10^{n/2}+y_{0}$\n",
    "Now $x.y=(x_{1}.10^{n/2}+x_{0})(y_{1}.10^{n/2}+y_{0})\n",
    "    => x.y=x_{1}y_{1}.10^{n}+(x_{1}y_{0}+x_{0}y_{1}).10^{n/2}+x_{0}y_{0}$<br/><br/>\n",
    "As there are 4 terms to compute,this could be considered as a recursive problem $T(n)<=4T(n/2)+ c(n)$ time complexity for this recursion is still $O(n^{2})$ but this can be reduced as if we multiply $(x_{1}+x_{0})(y_{1}+y_{0})$ we get $x_{1}y_{1}+x_{1}y_{0}+x_{0}y_{1}+x_{0}y_{0}$ we just have to calculate $x_{1}y_{1}$,$x_{0}y_{0}$ and $(x_{1}+x_{0})(y_{1}+y_{0})$ and we can find the middle two terms by subtracting $x_{1}y_{1}$ and $x_{0}y_{0}$ from $(x_{1}+x_{0})(y_{1}+y_{0})$ thus the recursive problem reduces to $T(n)<=3T(n/2)+ c(n)$ and time complexity becomes $O(n^{log_{2}3})$"
   ]
  },
  {
   "cell_type": "code",
   "execution_count": 1,
   "metadata": {},
   "outputs": [],
   "source": [
    "def Int_Multiply(x,y):\n",
    "    n=0\n",
    "    base=10\n",
    "    num=x\n",
    "    while num!=0:\n",
    "        n+=1\n",
    "        num//=10\n",
    "    if n==1 or x==0:\n",
    "        return x*y\n",
    "    x1=x//base**(n/2)\n",
    "    y1=y//base**(n/2)\n",
    "    x0=x%base**(n/2)\n",
    "    y0=y%base**(n/2)\n",
    "    p=Int_Multiply(x0+x1,y0+y1)\n",
    "    x1y1=Int_Multiply(x1,y1)\n",
    "    x0y0=Int_Multiply(x0,y0)\n",
    "    return (x1y1*base**n)+(p-x1y1-x0y0)*base**(n/2)+x0y0"
   ]
  },
  {
   "cell_type": "code",
   "execution_count": 2,
   "metadata": {},
   "outputs": [
    {
     "data": {
      "text/plain": [
       "1.3617661805950437e+56"
      ]
     },
     "execution_count": 2,
     "metadata": {},
     "output_type": "execute_result"
    }
   ],
   "source": [
    "Int_Multiply(32321321321322132132132132113127,4213213213213213213123216)"
   ]
  },
  {
   "cell_type": "code",
   "execution_count": 3,
   "metadata": {},
   "outputs": [
    {
     "data": {
      "text/plain": [
       "136176618059504358499737962008718747408224079937502056432"
      ]
     },
     "execution_count": 3,
     "metadata": {},
     "output_type": "execute_result"
    }
   ],
   "source": [
    "32321321321322132132132132113127*4213213213213213213123216"
   ]
  },
  {
   "cell_type": "code",
   "execution_count": null,
   "metadata": {},
   "outputs": [],
   "source": []
  }
 ],
 "metadata": {
  "kernelspec": {
   "display_name": "Python 3",
   "language": "python",
   "name": "python3"
  },
  "language_info": {
   "codemirror_mode": {
    "name": "ipython",
    "version": 3
   },
   "file_extension": ".py",
   "mimetype": "text/x-python",
   "name": "python",
   "nbconvert_exporter": "python",
   "pygments_lexer": "ipython3",
   "version": "3.7.8"
  }
 },
 "nbformat": 4,
 "nbformat_minor": 2
}
