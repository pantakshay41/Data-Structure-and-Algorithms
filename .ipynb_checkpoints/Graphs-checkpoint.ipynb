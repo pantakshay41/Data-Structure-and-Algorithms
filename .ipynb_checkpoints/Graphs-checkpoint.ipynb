{
 "cells": [
  {
   "cell_type": "markdown",
   "metadata": {},
   "source": [
    "# Graphs "
   ]
  },
  {
   "cell_type": "markdown",
   "metadata": {},
   "source": [
    "A graph is a way of encoding relationships amoung set of objects. It consists of a collection V of nodes and a collection E of edges,each of which joins two nodes.We thus  represent an edge e ∈ E as a two-element subset of V: e = {u, v} for some  u,v ∈ V, where we call u and v the ends of e. "
   ]
  },
  {
   "cell_type": "markdown",
   "metadata": {},
   "source": [
    "![Graph](img/graph.jpg)"
   ]
  },
  {
   "cell_type": "markdown",
   "metadata": {},
   "source": [
    "A graph could be of two types namely **directed** and **undirected** graphs.\n",
    "In a **undirected** graph the edges represent a symmetric relationship between their ends.\n",
    "A **directed** graph consists of a collection V of nodes and a collection E of directed edges where for e ∈ E is an ordered pair (u,v), which means the roles of u and v are not interchangable.\n",
    "An undirected graph is a **tree** if it is connected and does not contain a cycle.\n",
    "Every **n** node tree has **n-1** edges.\n"
   ]
  },
  {
   "cell_type": "markdown",
   "metadata": {},
   "source": [
    "###  Representation"
   ]
  },
  {
   "cell_type": "markdown",
   "metadata": {},
   "source": [
    "There are two ways to represent a graph namely **adjacency matrix** and **adjacency lists**,in adjacency matrix we use an *n x n* matrix A to represent the graph (n is number of nodes) where A[u,v]=1 if there is a edge between (u,v) and 0 otherwise.\n",
    "Adjacency matrix use O(n²) space regardless of the edges and it takes O(n) time to examine all the nodes incident to it due these disadvantages we use **adjacency lists** to represent a graph, in adjanceny list representation, there is a record for each node v containing a list of every node it has an edge to. To be precise, we have an  array Adj, where Adj[v] is a record containing a list of all nodes adjacent to  node v."
   ]
  },
  {
   "cell_type": "markdown",
   "metadata": {},
   "source": [
    "### Traversal"
   ]
  },
  {
   "cell_type": "markdown",
   "metadata": {},
   "source": [
    "##### Lets consider the following graph"
   ]
  },
  {
   "cell_type": "markdown",
   "metadata": {},
   "source": [
    "![graph2](img/graph2.jpg)"
   ]
  },
  {
   "cell_type": "markdown",
   "metadata": {},
   "source": [
    "Adjacency matrix representation of this graph would be"
   ]
  },
  {
   "cell_type": "code",
   "execution_count": 1,
   "metadata": {},
   "outputs": [],
   "source": [
    "G=[[1,2,3],[0,2],[0,1,3,4,5],[0,2],[2,6],[2,6],[4,5]]"
   ]
  },
  {
   "cell_type": "markdown",
   "metadata": {},
   "source": [
    "#### Breadth First Search (BFS)"
   ]
  },
  {
   "cell_type": "markdown",
   "metadata": {},
   "source": [
    "#### BFS Algorithm"
   ]
  },
  {
   "cell_type": "code",
   "execution_count": 2,
   "metadata": {},
   "outputs": [],
   "source": [
    "def BFS(s,G):\n",
    "    '''takes a starting node and constructs a Breadth First Search Tree.\n",
    "        param:\n",
    "            s:starting node\n",
    "            G:Adjaceny matrix of Graph\n",
    "        returns:\n",
    "            list:Adjacency matrix representation of BFS Tree'''\n",
    "    Discovered=[False for i in range(len(G))]\n",
    "    Discovered[s]=True\n",
    "    Layers=[[s]]\n",
    "    BFS_tree=[[] for i in range(len(G))]\n",
    "    i=0\n",
    "    while len(Layers[i])!=0:\n",
    "        Layers.append([])\n",
    "        for u in Layers[i]:\n",
    "            for v in G[u]:\n",
    "                if Discovered[v]==False:\n",
    "                    Discovered[v]=True\n",
    "                    Layers[i+1].append(v)\n",
    "                    BFS_tree[u].append(v)\n",
    "        i+=1\n",
    "    return BFS_tree\n",
    "                "
   ]
  },
  {
   "cell_type": "code",
   "execution_count": 3,
   "metadata": {},
   "outputs": [
    {
     "data": {
      "text/plain": [
       "[[1, 2, 3], [], [4, 5], [], [6], [], []]"
      ]
     },
     "execution_count": 3,
     "metadata": {},
     "output_type": "execute_result"
    }
   ],
   "source": [
    "BFS(0,G)"
   ]
  },
  {
   "cell_type": "markdown",
   "metadata": {},
   "source": [
    "#### Depth First Search(DFS)"
   ]
  },
  {
   "cell_type": "markdown",
   "metadata": {},
   "source": [
    "#### DFS Algorithm"
   ]
  },
  {
   "cell_type": "code",
   "execution_count": 7,
   "metadata": {},
   "outputs": [],
   "source": [
    "def DFS(s,G):\n",
    "    '''takes a starting node and constructs a Depth First Search Tree.\n",
    "        param:\n",
    "            s:starting node\n",
    "            G:Adjaceny matrix of Graph\n",
    "        returns:\n",
    "            list:Adjacency list representation of DFS Tree'''\n",
    "    S=[s]\n",
    "    Explored=[False for i in range(len(G))]\n",
    "    DFS_tree=[[] for i in range(len(G))]\n",
    "    parent=[None for i in range(len(G))]\n",
    "    while len(S)!=0:\n",
    "        u=S.pop()\n",
    "        if Explored[u]==False:\n",
    "            if parent[u]!=None:\n",
    "                DFS_tree[parent[u]].append(u)\n",
    "            Explored[u]=True\n",
    "            for v in G[u]:\n",
    "                S.append(v)\n",
    "                parent[v]=u\n",
    "    return DFS_tree"
   ]
  },
  {
   "cell_type": "code",
   "execution_count": 8,
   "metadata": {
    "scrolled": true
   },
   "outputs": [
    {
     "data": {
      "text/plain": [
       "[[3], [], [5, 1], [2], [], [6], [4]]"
      ]
     },
     "execution_count": 8,
     "metadata": {},
     "output_type": "execute_result"
    }
   ],
   "source": [
    "DFS(0,G)"
   ]
  },
  {
   "cell_type": "markdown",
   "metadata": {},
   "source": [
    "#### Bipartite Graph"
   ]
  },
  {
   "cell_type": "markdown",
   "metadata": {},
   "source": [
    "A bipartite graph is a graph in which the nodes V can be divided into set of nodes X and Y such that every edge has one end in X and the other in Y."
   ]
  },
  {
   "cell_type": "markdown",
   "metadata": {},
   "source": [
    "As it is immposible to make a odd cyclic graph bipartite.By defination,**If a graph G is bipartite then it cannot contain any odd cycles.** "
   ]
  },
  {
   "cell_type": "code",
   "execution_count": 33,
   "metadata": {},
   "outputs": [],
   "source": [
    "def Bipartiteness_Check(s,G):\n",
    "    '''takes a starting node and checks if the graph is bipartite or not.\n",
    "        param:\n",
    "            s:starting node\n",
    "            G:Adjaceny matrix of Graph\n",
    "        returns:\n",
    "            True:if graph is bipartite\n",
    "            False:if graph is not bipartite'''\n",
    "    Discovered=[False for i in range(len(G))]\n",
    "    Discovered[s]=True\n",
    "    color=['red' for i in range(len(G))]\n",
    "    Layers=[[s]]\n",
    "    i=0\n",
    "    while len(Layers[i])!=0:\n",
    "        Layers.append([])\n",
    "        for u in Layers[i]:\n",
    "            for v in G[u]:\n",
    "                if Discovered[v]==False:\n",
    "                    Discovered[v]=True\n",
    "                    Layers[i+1].append(v)\n",
    "                    if (i+1)%2==1:\n",
    "                        color[v]='blue'\n",
    "                    \n",
    "        i+=1\n",
    "    \n",
    "    for u in range(len(G)):\n",
    "        for v in G[u]:\n",
    "            if color[u]==color[v]:\n",
    "                return False\n",
    "    return True\n",
    "                "
   ]
  },
  {
   "cell_type": "code",
   "execution_count": 34,
   "metadata": {},
   "outputs": [
    {
     "data": {
      "text/plain": [
       "False"
      ]
     },
     "execution_count": 34,
     "metadata": {},
     "output_type": "execute_result"
    }
   ],
   "source": [
    "Bipartiteness_Check(0,G)"
   ]
  },
  {
   "cell_type": "code",
   "execution_count": 35,
   "metadata": {},
   "outputs": [],
   "source": [
    "G2=[[1,3],[0,2,4],[1,5],[0,4],[1,3,5],[2,4]]"
   ]
  },
  {
   "cell_type": "markdown",
   "metadata": {},
   "source": [
    "![graph3](img/graph3.jpg)"
   ]
  },
  {
   "cell_type": "code",
   "execution_count": 36,
   "metadata": {},
   "outputs": [
    {
     "data": {
      "text/plain": [
       "True"
      ]
     },
     "execution_count": 36,
     "metadata": {},
     "output_type": "execute_result"
    }
   ],
   "source": [
    "Bipartiteness_Check(0,G2)"
   ]
  },
  {
   "cell_type": "markdown",
   "metadata": {},
   "source": [
    "#### Directed Acyclic Graphs(DAG) and Topological Ordering "
   ]
  },
  {
   "cell_type": "markdown",
   "metadata": {},
   "source": [
    "If an undirected graph has no cycles, then it has an extremely simple structure:  each of its connected components is a tree. But it is possible for a directed graph  to have no (directed) cycles and still have a very rich structure.\n"
   ]
  },
  {
   "cell_type": "markdown",
   "metadata": {},
   "source": [
    "For example"
   ]
  },
  {
   "cell_type": "markdown",
   "metadata": {},
   "source": [
    "![graph4](img/graph4.jpg)"
   ]
  },
  {
   "cell_type": "markdown",
   "metadata": {},
   "source": [
    "For a directed graph G, we say that a **topological  ordering** of G is an ordering of its nodes as v1 ,v2 ,..., vn such that for every edge  (vi , vj ), we have i < j. In other words, all edges point “forward” in the ordering. \n",
    "\n"
   ]
  },
  {
   "cell_type": "markdown",
   "metadata": {},
   "source": [
    "![graph5](img/graph5.jpg)"
   ]
  },
  {
   "cell_type": "code",
   "execution_count": 3,
   "metadata": {},
   "outputs": [],
   "source": [
    "#we will use the graph above and order the numbered nodes in their topological order\n",
    "#numbers on the node indicate their indexes in the adjacency list represtaion of the graph\n",
    "G={'from':[[],[0],[1,3],[],[3,5,6],[0,6],[0,1,2,3]],'to':[[1,5,6],[2,6],[6],[2,4,6],[],[4],[4,5]]}#adjacency list representation of the above graph"
   ]
  },
  {
   "cell_type": "code",
   "execution_count": 13,
   "metadata": {},
   "outputs": [],
   "source": [
    "def topological_order(G):\n",
    "    '''Takes Directed Acyclic Graph and finds the topological order of the input graph\n",
    "        param:\n",
    "            G: DAG whose topological order is to be found\n",
    "        returns:\n",
    "            list:topological order of the graph'''\n",
    "    incoming_edges=[len(G['from'][i]) for i in range(len(G['from']))]\n",
    "    active=[True for i in range(len(G['from']))]\n",
    "    S=[i for i in range(len(G['from'])) if incoming_edges[i]==0 and active[i]==True]\n",
    "    order=[]\n",
    "    while len(S)!=0:\n",
    "        v=S.pop()\n",
    "        for u in G['to'][v]:\n",
    "            incoming_edges[u]-=1\n",
    "            if incoming_edges[u]==0:\n",
    "                S.append(u)\n",
    "        active[v]=False\n",
    "        order.append(v)\n",
    "    return order"
   ]
  },
  {
   "cell_type": "code",
   "execution_count": 14,
   "metadata": {},
   "outputs": [
    {
     "data": {
      "text/plain": [
       "[3, 0, 1, 2, 6, 5, 4]"
      ]
     },
     "execution_count": 14,
     "metadata": {},
     "output_type": "execute_result"
    }
   ],
   "source": [
    "topological_order(G)"
   ]
  },
  {
   "cell_type": "code",
   "execution_count": null,
   "metadata": {},
   "outputs": [],
   "source": []
  }
 ],
 "metadata": {
  "kernelspec": {
   "display_name": "Python 3",
   "language": "python",
   "name": "python3"
  },
  "language_info": {
   "codemirror_mode": {
    "name": "ipython",
    "version": 3
   },
   "file_extension": ".py",
   "mimetype": "text/x-python",
   "name": "python",
   "nbconvert_exporter": "python",
   "pygments_lexer": "ipython3",
   "version": "3.7.8"
  }
 },
 "nbformat": 4,
 "nbformat_minor": 4
}
