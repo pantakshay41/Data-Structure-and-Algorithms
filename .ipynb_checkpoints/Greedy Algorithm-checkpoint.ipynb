{
 "cells": [
  {
   "cell_type": "markdown",
   "metadata": {},
   "source": [
    "# Greedy Algorithm "
   ]
  },
  {
   "cell_type": "markdown",
   "metadata": {},
   "source": [
    "### Interval Scheduling"
   ]
  },
  {
   "cell_type": "code",
   "execution_count": 37,
   "metadata": {},
   "outputs": [],
   "source": [
    "#Basic\n",
    "def Interval_Scheduling(intervals):\n",
    "    A=[]\n",
    "    requests=[i for i in range(len(intervals))]\n",
    "    while len(requests)!=0:\n",
    "        request=min(requests,key=lambda x:intervals[x][1])\n",
    "        A.append(request)\n",
    "        conflicts=[]\n",
    "        for i in requests:\n",
    "            if i==request:\n",
    "                continue\n",
    "            if intervals[request][1]>intervals[i][0]:\n",
    "                conflicts.append(i)\n",
    "        for i in conflicts:\n",
    "            requests.remove(i)\n",
    "        requests.remove(request)\n",
    "    return A"
   ]
  },
  {
   "cell_type": "code",
   "execution_count": 38,
   "metadata": {},
   "outputs": [
    {
     "data": {
      "text/plain": [
       "[4, 3, 2]"
      ]
     },
     "execution_count": 38,
     "metadata": {},
     "output_type": "execute_result"
    }
   ],
   "source": [
    "Interval_Scheduling([(3,6),(2,9),(7,9),(5,7),(1,5)])"
   ]
  },
  {
   "cell_type": "code",
   "execution_count": 39,
   "metadata": {},
   "outputs": [],
   "source": [
    "#Optimized\n",
    "def Interval_Scheduling_Optimized(intervals):\n",
    "    A=[]\n",
    "    \n",
    "    R=sorted(range(len(intervals)),key=lambda x:intervals[x][1])\n",
    "    S=[]\n",
    "    for i in R:\n",
    "        S.append(intervals[i][0])\n",
    "    A.append(R[0])\n",
    "    for i in range(len(intervals)):\n",
    "        if S[i]>=intervals[A[-1]][1]:\n",
    "            A.append(R[i])\n",
    "    return A"
   ]
  },
  {
   "cell_type": "code",
   "execution_count": 40,
   "metadata": {},
   "outputs": [
    {
     "data": {
      "text/plain": [
       "[4, 3, 2]"
      ]
     },
     "execution_count": 40,
     "metadata": {},
     "output_type": "execute_result"
    }
   ],
   "source": [
    "Interval_Scheduling_Optimized([(3,6),(2,9),(7,9),(5,7),(1,5)])"
   ]
  },
  {
   "cell_type": "code",
   "execution_count": 44,
   "metadata": {},
   "outputs": [
    {
     "name": "stdout",
     "output_type": "stream",
     "text": [
      "7.49 µs ± 184 ns per loop (mean ± std. dev. of 7 runs, 100000 loops each)\n"
     ]
    }
   ],
   "source": [
    "%timeit Interval_Scheduling([(3,6),(2,9),(7,9),(5,7),(1,5)])"
   ]
  },
  {
   "cell_type": "code",
   "execution_count": 45,
   "metadata": {},
   "outputs": [
    {
     "name": "stdout",
     "output_type": "stream",
     "text": [
      "4.45 µs ± 430 ns per loop (mean ± std. dev. of 7 runs, 100000 loops each)\n"
     ]
    }
   ],
   "source": [
    "%timeit Interval_Scheduling_Optimized([(3,6),(2,9),(7,9),(5,7),(1,5)])"
   ]
  },
  {
   "cell_type": "markdown",
   "metadata": {},
   "source": [
    "### Interval Partitioning "
   ]
  },
  {
   "cell_type": "code",
   "execution_count": 86,
   "metadata": {},
   "outputs": [],
   "source": [
    "def interval_partitioning(intervals):\n",
    "    A=[]\n",
    "    R=sorted(range(len(intervals)),key=lambda x:intervals[x][0])\n",
    "    count=1\n",
    "    A.append(R[0])\n",
    "    for i in R[1:]:\n",
    "        if intervals[i][1]>=intervals[A[-1]][1]:\n",
    "            count+=1\n",
    "            A.append(i)\n",
    "    return count"
   ]
  },
  {
   "cell_type": "code",
   "execution_count": 87,
   "metadata": {},
   "outputs": [
    {
     "data": {
      "text/plain": [
       "3"
      ]
     },
     "execution_count": 87,
     "metadata": {},
     "output_type": "execute_result"
    }
   ],
   "source": [
    "interval_partitioning([(3,6),(2,9),(7,9),(5,7),(1,5)])"
   ]
  },
  {
   "cell_type": "code",
   "execution_count": 88,
   "metadata": {},
   "outputs": [
    {
     "data": {
      "text/plain": [
       "4"
      ]
     },
     "execution_count": 88,
     "metadata": {},
     "output_type": "execute_result"
    }
   ],
   "source": [
    "interval_partitioning([(3,7),])"
   ]
  },
  {
   "cell_type": "markdown",
   "metadata": {},
   "source": [
    "### Minimize Lateness"
   ]
  },
  {
   "cell_type": "code",
   "execution_count": 5,
   "metadata": {},
   "outputs": [],
   "source": [
    "def minimize_lateness(intervals,deadlines):\n",
    "    R=sorted(range(len(intervals)),key=lambda x:deadlines[x])\n",
    "    time=0\n",
    "    L=0\n",
    "    for i in R:\n",
    "        l=time+intervals[i]-deadlines[i]\n",
    "        time+=intervals[i]\n",
    "        if l>L:\n",
    "            L=l\n",
    "    return [intervals[i] for i in R]\n",
    "    "
   ]
  },
  {
   "cell_type": "code",
   "execution_count": 6,
   "metadata": {},
   "outputs": [
    {
     "data": {
      "text/plain": [
       "[3, 2, 4, 1, 5]"
      ]
     },
     "execution_count": 6,
     "metadata": {},
     "output_type": "execute_result"
    }
   ],
   "source": [
    "intervals=[1,2,3,4,5]\n",
    "deadlines=[4,2,1,3,8]\n",
    "minimize_lateness(intervals,deadlines)"
   ]
  },
  {
   "cell_type": "markdown",
   "metadata": {},
   "source": [
    "### Optimal Caching "
   ]
  },
  {
   "cell_type": "code",
   "execution_count": 29,
   "metadata": {},
   "outputs": [],
   "source": [
    "def furthest_item(cache,sequence):\n",
    "    furthest=0\n",
    "    for i in cache:\n",
    "        j=0\n",
    "        current=0\n",
    "        while j<len(sequence):\n",
    "            if sequence[j]==i:\n",
    "                current=j\n",
    "                break\n",
    "            j+=1\n",
    "        if j==len(sequence):\n",
    "            print(i)\n",
    "            return i\n",
    "        if current>furthest:\n",
    "            furthest=current\n",
    "    return sequence[furthest]\n",
    "def eviction_schedule(data_items,sequence,k):\n",
    "    '''param:\n",
    "        tasks\n",
    "        sequence:sequence data items\n",
    "        k:size of cache'''\n",
    "    cache=sequence[:k]\n",
    "    sequence=sequence[k:]\n",
    "    op=0\n",
    "    for i in range(len(sequence)):\n",
    "        print(cache)\n",
    "        if sequence[i] not in cache:\n",
    "            op+=1\n",
    "            cache.remove(furthest_item(cache,sequence))\n",
    "            cache.append(sequence[i])\n",
    "    return op"
   ]
  },
  {
   "cell_type": "code",
   "execution_count": 30,
   "metadata": {},
   "outputs": [
    {
     "name": "stdout",
     "output_type": "stream",
     "text": [
      "['a', 'b']\n",
      "a\n",
      "['b', 'c']\n",
      "['b', 'c']\n",
      "['b', 'c']\n",
      "b\n",
      "['c', 'a']\n",
      "a\n"
     ]
    },
    {
     "data": {
      "text/plain": [
       "3"
      ]
     },
     "execution_count": 30,
     "metadata": {},
     "output_type": "execute_result"
    }
   ],
   "source": [
    "eviction_schedule(['a','b','c'],['a','b','c','b','c','a','b'],2)"
   ]
  },
  {
   "cell_type": "code",
   "execution_count": null,
   "metadata": {},
   "outputs": [],
   "source": []
  },
  {
   "cell_type": "code",
   "execution_count": null,
   "metadata": {},
   "outputs": [],
   "source": []
  },
  {
   "cell_type": "code",
   "execution_count": null,
   "metadata": {},
   "outputs": [],
   "source": []
  },
  {
   "cell_type": "code",
   "execution_count": null,
   "metadata": {},
   "outputs": [],
   "source": []
  }
 ],
 "metadata": {
  "kernelspec": {
   "display_name": "Python 3",
   "language": "python",
   "name": "python3"
  },
  "language_info": {
   "codemirror_mode": {
    "name": "ipython",
    "version": 3
   },
   "file_extension": ".py",
   "mimetype": "text/x-python",
   "name": "python",
   "nbconvert_exporter": "python",
   "pygments_lexer": "ipython3",
   "version": "3.7.8"
  }
 },
 "nbformat": 4,
 "nbformat_minor": 4
}
