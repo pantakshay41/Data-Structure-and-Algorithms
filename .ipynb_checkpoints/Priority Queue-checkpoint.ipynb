{
 "cells": [
  {
   "cell_type": "markdown",
   "metadata": {},
   "source": [
    "# Priority Queue "
   ]
  },
  {
   "cell_type": "markdown",
   "metadata": {},
   "source": [
    "#### Implementation of priority queue using heap in python"
   ]
  },
  {
   "cell_type": "markdown",
   "metadata": {},
   "source": [
    "A priority queue is a data structure that maintains a set of elements where each element contains a value associated with it, where lower value indicate higher priority.\n",
    "Priority queue supports addition and deletions of elements and extraction of element with highest priority. In a priority queue each operation takes O(logn) time."
   ]
  },
  {
   "cell_type": "markdown",
   "metadata": {},
   "source": [
    "## Heap\n"
   ]
  },
  {
   "cell_type": "markdown",
   "metadata": {},
   "source": [
    "Conceptually,a heap is balanced binary tree that is said to be in heap order if the key of each element is atleast as large as key of its parent node."
   ]
  },
  {
   "cell_type": "markdown",
   "metadata": {},
   "source": [
    "       Heap order: For every element v, at a node i, the element w at i’s parent  satisfies key(w)≤key(v)."
   ]
  },
  {
   "cell_type": "markdown",
   "metadata": {},
   "source": [
    "To represent heap I have used an array, for every element at index **i**, its left child is at **2i+1** and right child is at **2(i+1)**."
   ]
  },
  {
   "cell_type": "code",
   "execution_count": 65,
   "metadata": {},
   "outputs": [],
   "source": [
    "heap=[]"
   ]
  },
  {
   "cell_type": "markdown",
   "metadata": {},
   "source": [
    "#### Adding an element "
   ]
  },
  {
   "cell_type": "markdown",
   "metadata": {},
   "source": [
    "To add an element we first add the element to the last of the array and then move it to its place using the heapify_up utility function"
   ]
  },
  {
   "cell_type": "code",
   "execution_count": 66,
   "metadata": {},
   "outputs": [],
   "source": [
    "def heapify_up(heap,i):\n",
    "    '''this is utility function that fixes the heap if key at index i is lower than its parent.\n",
    "        param:\n",
    "            heap:heap to be fixed\n",
    "            i:index'''\n",
    "    if heap[i]<heap[int((i-1)/2)]:\n",
    "        temp=heap[int((i-1)/2)]\n",
    "        heap[int((i-1)/2)]=heap[i]\n",
    "        heap[i]=temp\n",
    "        heapify_up(heap,int((i-1)/2))\n",
    "    return"
   ]
  },
  {
   "cell_type": "code",
   "execution_count": 67,
   "metadata": {},
   "outputs": [],
   "source": [
    "def insert(heap,elem):\n",
    "    '''It inserts an element to heap\n",
    "        param:\n",
    "            heap:the heap to which the element is to be added\n",
    "            elem:key of element to be added'''\n",
    "    heap.append(elem)\n",
    "    heapify_up(heap,len(heap)-1)"
   ]
  },
  {
   "cell_type": "markdown",
   "metadata": {},
   "source": [
    "#### Deleting an element"
   ]
  },
  {
   "cell_type": "markdown",
   "metadata": {},
   "source": [
    "To delete an element we first replace the element with a copy of last element of the heap and remove the last element from the array and then apply heapify_down or heapify_up utility function depending on the key of last element to establish heap order."
   ]
  },
  {
   "cell_type": "code",
   "execution_count": 68,
   "metadata": {},
   "outputs": [],
   "source": [
    "def heapify_down(heap,i):\n",
    "    ''' this is utility function that fixes the heap if key at index i is greater than its childrens.\n",
    "        param:\n",
    "            heap:heap to be fixed\n",
    "            i:index'''\n",
    "    if 2*i+1>=len(heap):\n",
    "        return\n",
    "    else:\n",
    "        if 2*(i+1)>=len(heap):\n",
    "                j=2*i+1\n",
    "        else:\n",
    "            if heap[2*(i+1)]<heap[2*i+1]:\n",
    "                j=2*(i+1)\n",
    "            else:\n",
    "                j=2*i+1\n",
    "        if heap[j]>=heap[i]:\n",
    "            return \n",
    "        temp=heap[i]\n",
    "        heap[i]=heap[j]\n",
    "        heap[j]=temp\n",
    "        heapify_down(heap,j)"
   ]
  },
  {
   "cell_type": "code",
   "execution_count": 69,
   "metadata": {},
   "outputs": [],
   "source": [
    "def delete(heap,i):\n",
    "    '''It deletes an element at index i from the heap .\n",
    "        param:\n",
    "            heap:the heap from which the element is to be deleted\n",
    "            i:index of element'''\n",
    "    heap[i]=heap[-1]\n",
    "    del heap[-1]\n",
    "    if heap[i]<heap[int((i-1)/2)]:\n",
    "        heapify_up(heap,i)\n",
    "    else:\n",
    "        heapify_down(heap,i)\n",
    "    "
   ]
  },
  {
   "cell_type": "code",
   "execution_count": 70,
   "metadata": {},
   "outputs": [],
   "source": [
    "def FindMin(heap):\n",
    "    '''Finds the minimum element in the heap\n",
    "        heap:heap whose minimum element is to be found'''\n",
    "    return heap[0]"
   ]
  },
  {
   "cell_type": "code",
   "execution_count": 71,
   "metadata": {},
   "outputs": [],
   "source": [
    "def ExtractMin(heap):\n",
    "    '''Extracts the minimum element in the heap and fixes the heap after deleting the minimum element\n",
    "        heap:heap whose minimum element is to be found'''\n",
    "    minimum=FindMin(heap)\n",
    "    delete(heap,0)\n",
    "    return minimum"
   ]
  },
  {
   "cell_type": "markdown",
   "metadata": {},
   "source": [
    "The heap data structure with the Heapify-down and Heapify-up operations  can efficiently implement a priority queue.\n"
   ]
  },
  {
   "cell_type": "code",
   "execution_count": 72,
   "metadata": {},
   "outputs": [],
   "source": [
    "insert(heap,1)\n",
    "insert(heap,2)\n",
    "insert(heap,3)\n",
    "insert(heap,4)\n",
    "insert(heap,5)\n",
    "insert(heap,6)"
   ]
  },
  {
   "cell_type": "code",
   "execution_count": 75,
   "metadata": {},
   "outputs": [
    {
     "data": {
      "text/plain": [
       "[1, 2, 3, 4, 5, 6]"
      ]
     },
     "execution_count": 75,
     "metadata": {},
     "output_type": "execute_result"
    }
   ],
   "source": [
    "heap"
   ]
  },
  {
   "cell_type": "code",
   "execution_count": 74,
   "metadata": {},
   "outputs": [
    {
     "data": {
      "text/plain": [
       "1"
      ]
     },
     "execution_count": 74,
     "metadata": {},
     "output_type": "execute_result"
    }
   ],
   "source": [
    "FindMin(heap)"
   ]
  },
  {
   "cell_type": "code",
   "execution_count": 76,
   "metadata": {},
   "outputs": [],
   "source": [
    "insert(heap,0)"
   ]
  },
  {
   "cell_type": "code",
   "execution_count": 77,
   "metadata": {},
   "outputs": [
    {
     "data": {
      "text/plain": [
       "[0, 2, 1, 4, 5, 6, 3]"
      ]
     },
     "execution_count": 77,
     "metadata": {},
     "output_type": "execute_result"
    }
   ],
   "source": [
    "heap"
   ]
  },
  {
   "cell_type": "code",
   "execution_count": 78,
   "metadata": {},
   "outputs": [
    {
     "data": {
      "text/plain": [
       "0"
      ]
     },
     "execution_count": 78,
     "metadata": {},
     "output_type": "execute_result"
    }
   ],
   "source": [
    "FindMin(heap)"
   ]
  },
  {
   "cell_type": "code",
   "execution_count": 79,
   "metadata": {},
   "outputs": [
    {
     "data": {
      "text/plain": [
       "0"
      ]
     },
     "execution_count": 79,
     "metadata": {},
     "output_type": "execute_result"
    }
   ],
   "source": [
    "ExtractMin(heap)"
   ]
  },
  {
   "cell_type": "code",
   "execution_count": 80,
   "metadata": {},
   "outputs": [
    {
     "data": {
      "text/plain": [
       "[1, 2, 3, 4, 5, 6]"
      ]
     },
     "execution_count": 80,
     "metadata": {},
     "output_type": "execute_result"
    }
   ],
   "source": [
    "heap"
   ]
  },
  {
   "cell_type": "code",
   "execution_count": null,
   "metadata": {},
   "outputs": [],
   "source": []
  }
 ],
 "metadata": {
  "kernelspec": {
   "display_name": "Python 3",
   "language": "python",
   "name": "python3"
  },
  "language_info": {
   "codemirror_mode": {
    "name": "ipython",
    "version": 3
   },
   "file_extension": ".py",
   "mimetype": "text/x-python",
   "name": "python",
   "nbconvert_exporter": "python",
   "pygments_lexer": "ipython3",
   "version": "3.7.8"
  }
 },
 "nbformat": 4,
 "nbformat_minor": 4
}
