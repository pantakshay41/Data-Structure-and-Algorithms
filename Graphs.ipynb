{
 "cells": [
  {
   "cell_type": "markdown",
   "metadata": {},
   "source": [
    "## Graphs "
   ]
  },
  {
   "cell_type": "markdown",
   "metadata": {},
   "source": [
    "A graph is a way of encoding relationships amoung set of objects. It consists of a collection V of nodes and a collection E of edges,each of which joins two nodes.We thus  represent an edge e ∈ E as a two-element subset of V: e = {u, v} for some  u,v ∈ V, where we call u and v the ends of e. "
   ]
  },
  {
   "cell_type": "markdown",
   "metadata": {},
   "source": [
    "![Graph](img\\graph.jpg)"
   ]
  },
  {
   "cell_type": "markdown",
   "metadata": {},
   "source": [
    "A graph could be of two types namely **directed** and **undirected** graphs.\\\n",
    "In a **undirected** graph the edges represent a symmetric relationship between their ends.\\\n",
    "A **directed** graph consists of a collection V of nodes and a collection E of directed edges where for e ∈ E is an ordered pair (u,v), which means the roles of u and v are not interchangable.\\\n",
    "An undirected graph is a **tree** if it is connected and does not contain a cycle.\\\n",
    "Every **n** node tree has **n-1** edges.\n"
   ]
  },
  {
   "cell_type": "markdown",
   "metadata": {},
   "source": [
    "###  Representation"
   ]
  },
  {
   "cell_type": "markdown",
   "metadata": {},
   "source": [
    "There are two ways to represent a graph namely **adjacency matrix** and **adjacency lists**,in adjacency matrix we use an *n x n* matrix A to represent the graph (n is number of nodes) where A[u,v]=1 if there is a edge between (u,v) and 0 otherwise.\\\n",
    "Adjacency matrix use O(n²) space regardless of the edges and it takes O(n) time to examine all the nodes incident to it due these disadvantages we use **adjacency lists** to represent a graph, in adjanceny list representation, there is a record for each node v containing a list of every node it has an edge to. To be precise, we have an  array Adj, where Adj[v] is a record containing a list of all nodes adjacent to  node v."
   ]
  },
  {
   "cell_type": "markdown",
   "metadata": {},
   "source": [
    "### Traversal"
   ]
  },
  {
   "cell_type": "markdown",
   "metadata": {},
   "source": [
    "##### Lets consider the following graph"
   ]
  },
  {
   "cell_type": "markdown",
   "metadata": {},
   "source": [
    "![graph2](img\\graph2.jpg)"
   ]
  },
  {
   "cell_type": "markdown",
   "metadata": {},
   "source": [
    "Adjacency matrix representation of this graph would be"
   ]
  },
  {
   "cell_type": "code",
   "execution_count": 13,
   "metadata": {},
   "outputs": [],
   "source": [
    "G=[[1,2,3],[0,2],[0,1,3,4,5],[0,2],[2,6],[2,6],[4,5]]"
   ]
  },
  {
   "cell_type": "markdown",
   "metadata": {},
   "source": [
    "#### Breadth First Search (BFS)"
   ]
  },
  {
   "cell_type": "markdown",
   "metadata": {},
   "source": [
    "#### BFS Algorithm"
   ]
  },
  {
   "cell_type": "code",
   "execution_count": 14,
   "metadata": {},
   "outputs": [],
   "source": [
    "def BFS(s):\n",
    "    '''takes a starting node and constructs a Breadth First Search Tree.\n",
    "        param:\n",
    "            s:starting node\n",
    "        returns:\n",
    "            BFS_tree:Adjacency matrix representation of BFS Tree'''\n",
    "    Discovered=[False for i in range(len(G))]\n",
    "    Discovered[s]=True\n",
    "    Layers=[[s]]\n",
    "    BFS_tree=[[] for i in range(len(G))]\n",
    "    i=0\n",
    "    while len(Layers[i])!=0:\n",
    "        Layers.append([])\n",
    "        for u in Layers[i]:\n",
    "            for v in G[u]:\n",
    "                if Discovered[v]==False:\n",
    "                    Discovered[v]=True\n",
    "                    Layers[i+1].append(v)\n",
    "                    BFS_tree[u].append(v)\n",
    "        i+=1\n",
    "    return BFS_tree\n",
    "                "
   ]
  },
  {
   "cell_type": "code",
   "execution_count": 15,
   "metadata": {},
   "outputs": [
    {
     "data": {
      "text/plain": [
       "[[1, 2, 3], [], [4, 5], [], [6], [], []]"
      ]
     },
     "execution_count": 15,
     "metadata": {},
     "output_type": "execute_result"
    }
   ],
   "source": [
    "BFS(0)"
   ]
  },
  {
   "cell_type": "markdown",
   "metadata": {},
   "source": [
    "#### Depth First Search(DFS)"
   ]
  },
  {
   "cell_type": "markdown",
   "metadata": {},
   "source": [
    "#### DFS Algorithm"
   ]
  },
  {
   "cell_type": "code",
   "execution_count": 18,
   "metadata": {},
   "outputs": [],
   "source": [
    "def DFS(s):\n",
    "    S=[s]\n",
    "    Explored=[False for i in range(len(G))]\n",
    "    DFS_tree=[[] for i in range(len(G))]\n",
    "    parent=[None for i in range(len(G))]\n",
    "    while len(S)!=0:\n",
    "        u=S.pop()\n",
    "        if Explored[u]==False:\n",
    "            if parent[u]!=None:\n",
    "                DFS_tree[parent[u]].append(u)\n",
    "            Explored[u]=True\n",
    "            for v in G[u]:\n",
    "                S.append(v)\n",
    "                parent[v]=u\n",
    "    return DFS_tree"
   ]
  },
  {
   "cell_type": "code",
   "execution_count": 19,
   "metadata": {
    "scrolled": true
   },
   "outputs": [
    {
     "data": {
      "text/plain": [
       "[[3], [], [5, 1], [2], [], [6], [4]]"
      ]
     },
     "execution_count": 19,
     "metadata": {},
     "output_type": "execute_result"
    }
   ],
   "source": [
    "DFS(0)"
   ]
  },
  {
   "cell_type": "code",
   "execution_count": null,
   "metadata": {},
   "outputs": [],
   "source": []
  }
 ],
 "metadata": {
  "kernelspec": {
   "display_name": "Python 3",
   "language": "python",
   "name": "python3"
  },
  "language_info": {
   "codemirror_mode": {
    "name": "ipython",
    "version": 3
   },
   "file_extension": ".py",
   "mimetype": "text/x-python",
   "name": "python",
   "nbconvert_exporter": "python",
   "pygments_lexer": "ipython3",
   "version": "3.7.8"
  }
 },
 "nbformat": 4,
 "nbformat_minor": 4
}
