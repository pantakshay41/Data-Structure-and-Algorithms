{
 "cells": [
  {
   "cell_type": "markdown",
   "metadata": {},
   "source": [
    "# Divide and Conquer"
   ]
  },
  {
   "cell_type": "markdown",
   "metadata": {},
   "source": [
    "Divide and conquer refers to a class of algorithmic techniques in which one  breaks the input into several parts, solves the problem in each part recursively,  and then combines the solutions to these subproblems into an overall solution. "
   ]
  },
  {
   "cell_type": "markdown",
   "metadata": {},
   "source": [
    "### Counting Inversions"
   ]
  },
  {
   "cell_type": "markdown",
   "metadata": {},
   "source": [
    "Here we are given n numbers in order a(1),a(2),a(3)...a(n). To define an inversion we say that for two numbers a(i) and a(j) if i>j and a(i)<a(j). The problem is to find the number of inversions in the sequence."
   ]
  },
  {
   "cell_type": "code",
   "execution_count": 5,
   "metadata": {},
   "outputs": [],
   "source": [
    "def merge_and_count(L,R):\n",
    "    '''helper function that merges two halves and counts the inversion in them\n",
    "        param:\n",
    "            L:left list\n",
    "            R:right list\n",
    "        returns:\n",
    "            tuple: at index-0:sorted list\n",
    "                   at index-1:number of inversions'''\n",
    "    i=0\n",
    "    j=0\n",
    "    count=0\n",
    "    op=[]\n",
    "    while i<len(L) and j<len(R):\n",
    "\n",
    "        if L[i]>R[j]:\n",
    "            count+=len(L)-i\n",
    "            op.append(R[j])\n",
    "            j+=1\n",
    "        else:\n",
    "            op.append(L[i])\n",
    "            i+=1\n",
    "    if j<len(R):\n",
    "        for elem in R[j:]:\n",
    "            op.append(elem)\n",
    "    elif i<len(L):\n",
    "        for elem in L[i:]:\n",
    "            op.append(elem)\n",
    "    return op,count\n",
    "def sort_and_count(sequence):\n",
    "    '''Recursively sorts and counts the number of inversions in an array\n",
    "        param:\n",
    "            sequence:A list of numbers\n",
    "        returns:\n",
    "            tuple: at index-0:sorted list\n",
    "                   at index-1:number of inversions'''\n",
    "    n=len(sequence)\n",
    "    if n==1:\n",
    "        return sequence,0\n",
    "    else:\n",
    "        Left=sequence[0:int(n/2)]\n",
    "        Right=sequence[int(n/2):]\n",
    "        L,c1=sort_and_count(Left)\n",
    "        R,c2=sort_and_count(Right)\n",
    "        Op,c3=merge_and_count(L,R)\n",
    "    return Op,c1+c2+c3"
   ]
  },
  {
   "cell_type": "code",
   "execution_count": 6,
   "metadata": {},
   "outputs": [
    {
     "data": {
      "text/plain": [
       "([1, 2, 3, 4, 5], 10)"
      ]
     },
     "execution_count": 6,
     "metadata": {},
     "output_type": "execute_result"
    }
   ],
   "source": [
    "sort_and_count([5,4,3,2,1])"
   ]
  },
  {
   "cell_type": "markdown",
   "metadata": {},
   "source": [
    "### Points with the shortest distance "
   ]
  },
  {
   "cell_type": "code",
   "execution_count": 7,
   "metadata": {},
   "outputs": [],
   "source": [
    "def calc_distance(p1,p2):\n",
    "    return ((p1[0]-p2[0])**2+(p1[1]-p2[1])**2)**0.5"
   ]
  },
  {
   "cell_type": "code",
   "execution_count": 118,
   "metadata": {},
   "outputs": [],
   "source": [
    "def merge_and_find(points,L,R):\n",
    "    i=0\n",
    "    j=0\n",
    "    op=[]\n",
    "    while i<len(L) and j<len(R):\n",
    "        if len(points)==0:\n",
    "            points.append(L[i])\n",
    "            points.append(R[j])\n",
    "        else:\n",
    "            if calc_distance(points[0],points[1])>calc_distance(L[i],R[j]):\n",
    "                points[0]=(L[i])\n",
    "                points[1]=(R[j])\n",
    "        if max(L[i])>max(R[j]):\n",
    "            op.append(R[j])\n",
    "            j+=1\n",
    "        else:\n",
    "            op.append(L[i])\n",
    "            i+=1\n",
    "    if j<len(R):\n",
    "        for elem in R[j:]:\n",
    "            op.append(elem)\n",
    "    elif i<len(L):\n",
    "        for elem in L[i:]:\n",
    "            op.append(elem)\n",
    "    return points,op\n",
    "def sort_and_find(sequence,points=[]):\n",
    "    n=len(sequence)\n",
    "    if n==1:\n",
    "        return points,sequence\n",
    "    Left=sequence[0:int(n/2)]\n",
    "    Right=sequence[int(n/2):]\n",
    "    points,L=sort_and_find(Left,points)\n",
    "    points,R=sort_and_find(Right,points)\n",
    "    \n",
    "    points,Op=merge_and_find(points,L,R)\n",
    "    return points,Op"
   ]
  },
  {
   "cell_type": "code",
   "execution_count": 123,
   "metadata": {},
   "outputs": [],
   "source": [
    "def algo_test(n):\n",
    "    import random \n",
    "    sequence=[(random.randint(-10000,10000),(random.randint(-10000,10000))) for i in range(n)]\n",
    "    sequence=list(set(sequence))\n",
    "    op=(sort_and_find(sequence))\n",
    "    print(op)"
   ]
  },
  {
   "cell_type": "code",
   "execution_count": 124,
   "metadata": {},
   "outputs": [
    {
     "name": "stdout",
     "output_type": "stream",
     "text": [
      "([(3, 2), (4, 1)], [(-1108, -8648), (-351, -6962), (-124, -4950), (-3756, 2159), (-9385, 5575), (6162, 3067), (7401, -9545), (-5256, 7446), (3936, 7858), (9999, 1996)])\n"
     ]
    }
   ],
   "source": [
    "algo_test(10)"
   ]
  },
  {
   "cell_type": "code",
   "execution_count": null,
   "metadata": {},
   "outputs": [],
   "source": []
  }
 ],
 "metadata": {
  "kernelspec": {
   "display_name": "Python 3",
   "language": "python",
   "name": "python3"
  },
  "language_info": {
   "codemirror_mode": {
    "name": "ipython",
    "version": 3
   },
   "file_extension": ".py",
   "mimetype": "text/x-python",
   "name": "python",
   "nbconvert_exporter": "python",
   "pygments_lexer": "ipython3",
   "version": "3.7.2"
  }
 },
 "nbformat": 4,
 "nbformat_minor": 2
}
